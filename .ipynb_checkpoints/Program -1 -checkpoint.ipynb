{
 "cells": [
  {
   "cell_type": "code",
   "execution_count": 11,
   "id": "5975c968",
   "metadata": {},
   "outputs": [],
   "source": [
    "import tensorflow as tf \n",
    "import numpy as np \n",
    "t=np.array([[1,2,3],[4,5,6]])\n",
    "#Creating tensor using tensorflow library\n",
    "p=tf.constant([[1,2,3],[4,5,6]])"
   ]
  },
  {
   "cell_type": "code",
   "execution_count": 3,
   "id": "bc15f5d0",
   "metadata": {},
   "outputs": [
    {
     "data": {
      "text/plain": [
       "' The Tensor is basic building block used to represent the data. Tensors can be thought of as a multidimensional array similar to a matrix but with arbitrary numbers of dimensions.\\nTensors can hold various data types such as integers,floating-point and strings.\\nTensors have various properties such as shape,size, rank and dimensions and they can be added,multiplied and manipulated in various way to perform mathematical operations.\\nTensors are essential in Deeplearning framework such as tensorflow and pytorch\\n'"
      ]
     },
     "execution_count": 3,
     "metadata": {},
     "output_type": "execute_result"
    }
   ],
   "source": [
    "#Description \n",
    "''' The Tensor is basic building block used to represent the data. Tensors can be thought of as a multidimensional array similar to a matrix but with arbitrary numbers of dimensions.\n",
    "Tensors can hold various data types such as integers,floating-point and strings.\n",
    "Tensors have various properties such as shape,size, rank and dimensions and they can be added,multiplied and manipulated in various way to perform mathematical operations.\n",
    "Tensors are essential in Deeplearning framework such as tensorflow and pytorch\n",
    "'''"
   ]
  },
  {
   "cell_type": "code",
   "execution_count": 5,
   "id": "f6f78e8d",
   "metadata": {},
   "outputs": [
    {
     "data": {
      "text/plain": [
       "array([[ 2,  4,  6],\n",
       "       [ 8, 10, 12]])"
      ]
     },
     "execution_count": 5,
     "metadata": {},
     "output_type": "execute_result"
    }
   ],
   "source": [
    "#Multiplication\n",
    "t1=p*2\n",
    "\n",
    "t1\n"
   ]
  },
  {
   "cell_type": "code",
   "execution_count": 7,
   "id": "6cdb952a",
   "metadata": {},
   "outputs": [
    {
     "data": {
      "text/plain": [
       "array([[4, 5, 6],\n",
       "       [7, 8, 9]])"
      ]
     },
     "execution_count": 7,
     "metadata": {},
     "output_type": "execute_result"
    }
   ],
   "source": [
    "t2=t+3\n",
    "t2"
   ]
  },
  {
   "cell_type": "code",
   "execution_count": 9,
   "id": "1fadc9b0",
   "metadata": {},
   "outputs": [
    {
     "data": {
      "text/plain": [
       "array([[ 1,  4,  9],\n",
       "       [16, 25, 36]], dtype=int32)"
      ]
     },
     "execution_count": 9,
     "metadata": {},
     "output_type": "execute_result"
    }
   ],
   "source": [
    "t3= np.power(t,2)\n",
    "t3"
   ]
  },
  {
   "cell_type": "code",
   "execution_count": 10,
   "id": "1edc4362",
   "metadata": {},
   "outputs": [
    {
     "data": {
      "text/plain": [
       "array([[1, 4],\n",
       "       [2, 5],\n",
       "       [3, 6]])"
      ]
     },
     "execution_count": 10,
     "metadata": {},
     "output_type": "execute_result"
    }
   ],
   "source": [
    "t4=np.transpose(t)\n",
    "t4"
   ]
  }
 ],
 "metadata": {
  "kernelspec": {
   "display_name": "Python 3 (ipykernel)",
   "language": "python",
   "name": "python3"
  },
  "language_info": {
   "codemirror_mode": {
    "name": "ipython",
    "version": 3
   },
   "file_extension": ".py",
   "mimetype": "text/x-python",
   "name": "python",
   "nbconvert_exporter": "python",
   "pygments_lexer": "ipython3",
   "version": "3.11.5"
  }
 },
 "nbformat": 4,
 "nbformat_minor": 5
}
