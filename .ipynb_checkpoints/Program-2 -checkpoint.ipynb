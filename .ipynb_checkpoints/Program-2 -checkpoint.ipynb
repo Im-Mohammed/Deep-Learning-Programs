{
 "cells": [
  {
   "cell_type": "code",
   "execution_count": 5,
   "id": "b8dd8fc7",
   "metadata": {},
   "outputs": [
    {
     "data": {
      "text/plain": [
       "'Tensors are the basic building block used to represent data \\nTensor can be thought of as a multidimensional array similar to matrix but with arbitrary number of d\\ndimensions.Tensors can hold the various values such as integer,floating point and string.\\nTensors have various properties such as size shape rank and dimensionality and they can be added multi\\nplied and manipulated in various ways to perform mathematical operations. Tensors are essential in \\ndeeplearning frameworks such as Tensorflow and pytorch\\n'"
      ]
     },
     "execution_count": 5,
     "metadata": {},
     "output_type": "execute_result"
    }
   ],
   "source": [
    "'''Tensors are the basic building block used to represent data \n",
    "Tensor can be thought of as a multidimensional array similar to matrix but with arbitrary number of d\n",
    "dimensions.Tensors can hold the various values such as integer,floating point and string.\n",
    "Tensors have various properties such as size shape rank and dimensionality and they can be added multi\n",
    "plied and manipulated in various ways to perform mathematical operations. Tensors are essential in \n",
    "deeplearning frameworks such as Tensorflow and pytorch\n",
    "'''"
   ]
  },
  {
   "cell_type": "code",
   "execution_count": null,
   "id": "bca57c78",
   "metadata": {},
   "outputs": [],
   "source": [
    "import numpy as np \n",
    "import tensorflow as tf \n",
    "#Take the input of rows and cols \n",
    "row=eval(input(\"Enter the number of rows: \"))\n",
    "cols=eval(input(\"Enter the number of cols : \"))\n",
    "#save the tensor with the given rows and cols \n",
    "tensor=np.empty((row,cols))"
   ]
  },
  {
   "cell_type": "code",
   "execution_count": null,
   "id": "eb6b2689",
   "metadata": {},
   "outputs": [],
   "source": [
    "#Taking input for rows and columns\n",
    "for i in range(row):\n",
    "    for j in range(cols):\n",
    "        tensor[i][j]=eval(input(f\"Enter the value of [{i}][{j}]: \"))\n",
    "print(tensor)"
   ]
  },
  {
   "cell_type": "code",
   "execution_count": null,
   "id": "1e7e53b7",
   "metadata": {},
   "outputs": [],
   "source": [
    "#Splitting of tensor\n",
    "s=input(\"Enter the axis (0 for columns and 1 for Rows): \")\n",
    "sp=np.split(tensor,2,axis=s)"
   ]
  },
  {
   "cell_type": "code",
   "execution_count": null,
   "id": "07d13a98",
   "metadata": {},
   "outputs": [],
   "source": [
    "#Merge of tensor\n",
    "me=np.concatenate((sp),axis=s)"
   ]
  },
  {
   "cell_type": "code",
   "execution_count": null,
   "id": "8b985912",
   "metadata": {},
   "outputs": [],
   "source": []
  },
  {
   "cell_type": "code",
   "execution_count": null,
   "id": "56001315",
   "metadata": {},
   "outputs": [],
   "source": []
  }
 ],
 "metadata": {
  "kernelspec": {
   "display_name": "Python 3 (ipykernel)",
   "language": "python",
   "name": "python3"
  },
  "language_info": {
   "codemirror_mode": {
    "name": "ipython",
    "version": 3
   },
   "file_extension": ".py",
   "mimetype": "text/x-python",
   "name": "python",
   "nbconvert_exporter": "python",
   "pygments_lexer": "ipython3",
   "version": "3.11.5"
  }
 },
 "nbformat": 4,
 "nbformat_minor": 5
}
