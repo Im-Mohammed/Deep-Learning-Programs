{
 "cells": [
  {
   "cell_type": "code",
   "execution_count": 5,
   "id": "032b007a",
   "metadata": {},
   "outputs": [
    {
     "data": {
      "text/plain": [
       "'Tensors are the basic building block used to represent data \\nTensor can be thought of as a multidimensional array similar to matrix but with arbitrary number of d\\ndimensions.Tensors can hold the various values such as integer,floating point and string.\\nTensors have various properties such as size shape rank and dimensionality and they can be added multi\\nplied and manipulated in various ways to perform mathematical operations. Tensors are essential in \\ndeeplearning frameworks such as Tensorflow and pytorch\\n'"
      ]
     },
     "execution_count": 5,
     "metadata": {},
     "output_type": "execute_result"
    }
   ],
   "source": [
    "'''Tensors are the basic building block used to represent data \n",
    "Tensor can be thought of as a multidimensional array similar to matrix but with arbitrary number of d\n",
    "dimensions.Tensors can hold the various values such as integer,floating point and string.\n",
    "Tensors have various properties such as size shape rank and dimensionality and they can be added multi\n",
    "plied and manipulated in various ways to perform mathematical operations. Tensors are essential in \n",
    "deeplearning frameworks such as Tensorflow and pytorch\n",
    "'''"
   ]
  },
  {
   "cell_type": "code",
   "execution_count": 6,
   "id": "4a0c1f47",
   "metadata": {},
   "outputs": [
    {
     "name": "stdout",
     "output_type": "stream",
     "text": [
      "Enter the number of rows: 2\n",
      "Enter the number of cols : 2\n"
     ]
    }
   ],
   "source": [
    "import numpy as np \n",
    "import tensorflow as tf \n",
    "#Take the input of rows and cols \n",
    "row=eval(input(\"Enter the number of rows: \"))\n",
    "cols=eval(input(\"Enter the number of cols : \"))\n",
    "#save the tensor with the given rows and cols \n",
    "tensor=np.empty((row,cols))"
   ]
  },
  {
   "cell_type": "code",
   "execution_count": 7,
   "id": "ef0421ae",
   "metadata": {},
   "outputs": [
    {
     "name": "stdout",
     "output_type": "stream",
     "text": [
      "Enter the value of [0][0]: 1\n",
      "Enter the value of [0][1]: 2\n",
      "Enter the value of [1][0]: 3\n",
      "Enter the value of [1][1]: 4\n",
      "[[1. 2.]\n",
      " [3. 4.]]\n"
     ]
    }
   ],
   "source": [
    "#Taking input for rows and columns\n",
    "for i in range(row):\n",
    "    for j in range(cols):\n",
    "        tensor[i][j]=eval(input(f\"Enter the value of [{i}][{j}]: \"))\n",
    "print(tensor)"
   ]
  },
  {
   "cell_type": "code",
   "execution_count": 14,
   "id": "781b2589",
   "metadata": {},
   "outputs": [
    {
     "name": "stdout",
     "output_type": "stream",
     "text": [
      "Enter the dimesion(0 for columns and 1 for rows): 0\n",
      "[array([[1., 2.]]), array([[3., 4.]])]\n"
     ]
    }
   ],
   "source": [
    "#Splitting of Tensors\n",
    "sp=int(input(\"Enter the dimesion(0 for columns and 1 for rows): \"))\n",
    "s=np.split(tensor,2,axis=sp)\n",
    "#in split first we need to give array and second how many equal parts do we need to divide the array and the third is axis\n",
    "print(s)"
   ]
  },
  {
   "cell_type": "code",
   "execution_count": 16,
   "id": "48cedac9",
   "metadata": {},
   "outputs": [
    {
     "name": "stdout",
     "output_type": "stream",
     "text": [
      "[[1. 2.]\n",
      " [3. 4.]]\n"
     ]
    }
   ],
   "source": [
    "#Merging of Tensors\n",
    "m=np.concatenate((s),axis=sp)#here we are merging the tensors that we have seperated using split function.\n",
    "print(m)"
   ]
  },
  {
   "cell_type": "code",
   "execution_count": 17,
   "id": "cbb70852",
   "metadata": {},
   "outputs": [
    {
     "name": "stdout",
     "output_type": "stream",
     "text": [
      "Mean:  2.5\n"
     ]
    }
   ],
   "source": [
    "#Statictics operation \n",
    "mean=np.mean(tensor)\n",
    "print(\"Mean: \",mean)"
   ]
  },
  {
   "cell_type": "code",
   "execution_count": 18,
   "id": "170376c9",
   "metadata": {},
   "outputs": [
    {
     "name": "stdout",
     "output_type": "stream",
     "text": [
      "2.5\n"
     ]
    }
   ],
   "source": [
    "#2 Median\n",
    "med=np.median(tensor)\n",
    "print(med)"
   ]
  },
  {
   "cell_type": "code",
   "execution_count": 19,
   "id": "24d9705a",
   "metadata": {},
   "outputs": [
    {
     "name": "stdout",
     "output_type": "stream",
     "text": [
      "1.118033988749895\n"
     ]
    }
   ],
   "source": [
    "#standard deviation\n",
    "std=np.std(tensor)\n",
    "print(std)"
   ]
  },
  {
   "cell_type": "code",
   "execution_count": 20,
   "id": "e313e4ef",
   "metadata": {},
   "outputs": [
    {
     "name": "stdout",
     "output_type": "stream",
     "text": [
      "1.25\n"
     ]
    }
   ],
   "source": [
    "var=np.var(tensor)\n",
    "print(var)"
   ]
  },
  {
   "cell_type": "code",
   "execution_count": 22,
   "id": "18c18291",
   "metadata": {},
   "outputs": [
    {
     "name": "stdout",
     "output_type": "stream",
     "text": [
      "4.0\n",
      "1.0\n"
     ]
    }
   ],
   "source": [
    "#finding the minimum and maximum \n",
    "maxi=np.max(tensor)\n",
    "mini=np.min(tensor)\n",
    "print(maxi)\n",
    "print(mini)"
   ]
  },
  {
   "cell_type": "code",
   "execution_count": 23,
   "id": "fdcb564c",
   "metadata": {},
   "outputs": [
    {
     "name": "stdout",
     "output_type": "stream",
     "text": [
      "[[1. 3.]\n",
      " [2. 4.]]\n"
     ]
    }
   ],
   "source": [
    "#Transpose \n",
    "trans=np.transpose(tensor)\n",
    "print(trans)"
   ]
  },
  {
   "cell_type": "code",
   "execution_count": 24,
   "id": "bf51228f",
   "metadata": {},
   "outputs": [
    {
     "name": "stdout",
     "output_type": "stream",
     "text": [
      "[[10. 14.]\n",
      " [14. 20.]]\n"
     ]
    }
   ],
   "source": [
    "#dot product \n",
    "dot=np.dot(trans,tensor)\n",
    "print(dot)"
   ]
  },
  {
   "cell_type": "code",
   "execution_count": 25,
   "id": "0db181d8",
   "metadata": {},
   "outputs": [
    {
     "data": {
      "text/plain": [
       "' np.split(array,division,axis)--> np.split(tensor,2,axis=0)\\n    np.concatenate((arrays),axis)--> np.concatenate((s),axis=sp)\\n    np.mean(array)--> np.mean(tensor)\\n    np.median(array)-->np.median(tensor)\\n    np.max(array)-->np.max(tensor)\\n    np.min(array)-->np.min(tensor)\\n    np.std(array)-->np.std(tensor)\\n    np.var(array)-->np.var(tensor)\\n    np.transpose(array)-->np.transpose(tensor)\\n    np.dot(array1,array2)-->np.transpose(trans,tensor)\\n'"
      ]
     },
     "execution_count": 25,
     "metadata": {},
     "output_type": "execute_result"
    }
   ],
   "source": [
    "\"\"\" np.split(array,division,axis)--> np.split(tensor,2,axis=0)\n",
    "    np.concatenate((arrays),axis)--> np.concatenate((s),axis=sp)\n",
    "    np.mean(array)--> np.mean(tensor)\n",
    "    np.median(array)-->np.median(tensor)\n",
    "    np.max(array)-->np.max(tensor)\n",
    "    np.min(array)-->np.min(tensor)\n",
    "    np.std(array)-->np.std(tensor)\n",
    "    np.var(array)-->np.var(tensor)\n",
    "    np.transpose(array)-->np.transpose(tensor)\n",
    "    np.dot(array1,array2)-->np.transpose(trans,tensor)\n",
    "\"\"\""
   ]
  }
 ],
 "metadata": {
  "kernelspec": {
   "display_name": "Python 3 (ipykernel)",
   "language": "python",
   "name": "python3"
  },
  "language_info": {
   "codemirror_mode": {
    "name": "ipython",
    "version": 3
   },
   "file_extension": ".py",
   "mimetype": "text/x-python",
   "name": "python",
   "nbconvert_exporter": "python",
   "pygments_lexer": "ipython3",
   "version": "3.11.5"
  }
 },
 "nbformat": 4,
 "nbformat_minor": 5
}
