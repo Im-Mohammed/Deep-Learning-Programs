{
 "cells": [
  {
   "cell_type": "code",
   "execution_count": 3,
   "id": "a4a1a2fa",
   "metadata": {},
   "outputs": [
    {
     "data": {
      "text/plain": [
       "' The Tensor is basic building block used to represent the data. Tensors can be thought of as a multidimensional array similar to a matrix but with arbitrary numbers of dimensions.\\nTensors can hold various data types such as integers,floating-point and strings.\\nTensors have various properties such as shape,size, rank and dimensions and they can be added,multiplied and manipulated in various way to perform mathematical operations.\\nTensors are essential in Deeplearning framework such as tensorflow and pytorch\\n'"
      ]
     },
     "execution_count": 3,
     "metadata": {},
     "output_type": "execute_result"
    }
   ],
   "source": [
    "#Description \n",
    "''' The Tensor is basic building block used to represent the data. Tensors can be thought of as a multidimensional array similar to a matrix but with arbitrary numbers of dimensions.\n",
    "Tensors can hold various data types such as integers,floating-point and strings.\n",
    "Tensors have various properties such as shape,size, rank and dimensions and they can be added,multiplied and manipulated in various way to perform mathematical operations.\n",
    "Tensors are essential in Deeplearning framework such as tensorflow and pytorch\n",
    "'''"
   ]
  },
  {
   "cell_type": "code",
   "execution_count": 13,
   "id": "eae73401",
   "metadata": {},
   "outputs": [],
   "source": [
    "import tensorflow as tf \n",
    "import numpy as np \n",
    "#Creating a tensor using numpy\n",
    "t=np.array([[1,2,3],[4,5,6]])"
   ]
  },
  {
   "cell_type": "code",
   "execution_count": 14,
   "id": "34c380b7",
   "metadata": {},
   "outputs": [],
   "source": [
    "#Creating a tensor using tensorflow library\n",
    "p=tf.constant([[1,2,3],[4,5,6]])"
   ]
  },
  {
   "cell_type": "code",
   "execution_count": 16,
   "id": "2f89e431",
   "metadata": {},
   "outputs": [
    {
     "name": "stdout",
     "output_type": "stream",
     "text": [
      "[[3 4 5]\n",
      " [6 7 8]]\n",
      "tf.Tensor(\n",
      "[[4 5 6]\n",
      " [7 8 9]], shape=(2, 3), dtype=int32)\n"
     ]
    }
   ],
   "source": [
    "#Performing addition \n",
    "t1=t+2\n",
    "p1=p+3\n",
    "print(t1)\n",
    "print(p1)"
   ]
  },
  {
   "cell_type": "code",
   "execution_count": 17,
   "id": "ed77098f",
   "metadata": {},
   "outputs": [
    {
     "name": "stdout",
     "output_type": "stream",
     "text": [
      "[[ 3  6  9]\n",
      " [12 15 18]]\n",
      "tf.Tensor(\n",
      "[[ 3  6  9]\n",
      " [12 15 18]], shape=(2, 3), dtype=int32)\n"
     ]
    }
   ],
   "source": [
    "#Performing Multiplication\n",
    "t2=t*3\n",
    "p2=p*3\n",
    "print(t2)\n",
    "print(p2)"
   ]
  },
  {
   "cell_type": "code",
   "execution_count": 18,
   "id": "8054ce3d",
   "metadata": {},
   "outputs": [
    {
     "name": "stdout",
     "output_type": "stream",
     "text": [
      "[[ 1  4  9]\n",
      " [16 25 36]]\n",
      "[[  1   8  27]\n",
      " [ 64 125 216]]\n"
     ]
    }
   ],
   "source": [
    "#Performing exponential \n",
    "t3=np.power(t,2)\n",
    "p3=np.power(p,3)\n",
    "print(t3)\n",
    "print(p3)"
   ]
  },
  {
   "cell_type": "code",
   "execution_count": 20,
   "id": "8eee32f5",
   "metadata": {},
   "outputs": [
    {
     "name": "stdout",
     "output_type": "stream",
     "text": [
      "[[1 4]\n",
      " [2 5]\n",
      " [3 6]]\n",
      "[[1 4]\n",
      " [2 5]\n",
      " [3 6]]\n"
     ]
    }
   ],
   "source": [
    "#Performing transpose\n",
    "t4=np.transpose(t)\n",
    "print(t4)\n",
    "p4=np.transpose(p)\n",
    "print(p4)"
   ]
  }
 ],
 "metadata": {
  "kernelspec": {
   "display_name": "Python 3 (ipykernel)",
   "language": "python",
   "name": "python3"
  },
  "language_info": {
   "codemirror_mode": {
    "name": "ipython",
    "version": 3
   },
   "file_extension": ".py",
   "mimetype": "text/x-python",
   "name": "python",
   "nbconvert_exporter": "python",
   "pygments_lexer": "ipython3",
   "version": "3.11.5"
  }
 },
 "nbformat": 4,
 "nbformat_minor": 5
}
