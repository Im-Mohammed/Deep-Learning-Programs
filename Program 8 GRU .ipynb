{
 "cells": [
  {
   "cell_type": "code",
   "execution_count": 1,
   "id": "0bee0f1d",
   "metadata": {},
   "outputs": [],
   "source": [
    "import numpy as  np \n",
    "import tensorflow as tf \n",
    "from tensorflow.keras.models import Sequential\n",
    "from tensorflow.keras.layers import LSTM,Dense\n"
   ]
  },
  {
   "cell_type": "code",
   "execution_count": 6,
   "id": "a9c6e4bd",
   "metadata": {},
   "outputs": [],
   "source": [
    "models=Sequential([\n",
    "    LSTM(32,input_shape=(10,1),activation='tanh'),\n",
    "    Dense(1,activation='sigmoid')\n",
    "])\n"
   ]
  },
  {
   "cell_type": "code",
   "execution_count": 8,
   "id": "33233d40",
   "metadata": {},
   "outputs": [],
   "source": [
    "models.compile(loss='binary_crossentropy',optimizer='Adam',metrics=['accuracy'])"
   ]
  },
  {
   "cell_type": "code",
   "execution_count": 9,
   "id": "472a1f30",
   "metadata": {},
   "outputs": [],
   "source": [
    "X=np.random.rand(100,10,1)\n",
    "y=np.random.randint(0,2,(100,1))"
   ]
  },
  {
   "cell_type": "code",
   "execution_count": 10,
   "id": "edc4b3ce",
   "metadata": {},
   "outputs": [
    {
     "data": {
      "text/plain": [
       "<keras.src.callbacks.history.History at 0x24d0c1947d0>"
      ]
     },
     "execution_count": 10,
     "metadata": {},
     "output_type": "execute_result"
    }
   ],
   "source": [
    "models.fit(X,y,epochs=15,batch_size=32,verbose=0)"
   ]
  },
  {
   "cell_type": "code",
   "execution_count": 11,
   "id": "5dc1291a",
   "metadata": {},
   "outputs": [
    {
     "name": "stdout",
     "output_type": "stream",
     "text": [
      "\u001b[1m4/4\u001b[0m \u001b[32m━━━━━━━━━━━━━━━━━━━━\u001b[0m\u001b[37m\u001b[0m \u001b[1m0s\u001b[0m 11ms/step - accuracy: 0.5054 - loss: 0.6929 \n"
     ]
    }
   ],
   "source": [
    "loss,acc=models.evaluate(X,y)"
   ]
  },
  {
   "cell_type": "code",
   "execution_count": 12,
   "id": "be074991",
   "metadata": {},
   "outputs": [
    {
     "name": "stdout",
     "output_type": "stream",
     "text": [
      "0.6933860182762146\n"
     ]
    }
   ],
   "source": [
    "print(loss)"
   ]
  },
  {
   "cell_type": "code",
   "execution_count": 13,
   "id": "a7725824",
   "metadata": {},
   "outputs": [
    {
     "name": "stdout",
     "output_type": "stream",
     "text": [
      "0.49000000953674316\n"
     ]
    }
   ],
   "source": [
    "print(acc)"
   ]
  }
 ],
 "metadata": {
  "kernelspec": {
   "display_name": "Python 3 (ipykernel)",
   "language": "python",
   "name": "python3"
  },
  "language_info": {
   "codemirror_mode": {
    "name": "ipython",
    "version": 3
   },
   "file_extension": ".py",
   "mimetype": "text/x-python",
   "name": "python",
   "nbconvert_exporter": "python",
   "pygments_lexer": "ipython3",
   "version": "3.11.5"
  }
 },
 "nbformat": 4,
 "nbformat_minor": 5
}
