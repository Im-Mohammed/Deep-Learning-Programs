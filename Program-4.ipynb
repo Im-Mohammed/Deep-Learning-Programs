{
 "cells": [
  {
   "cell_type": "code",
   "execution_count": 7,
   "id": "a508dc04",
   "metadata": {},
   "outputs": [],
   "source": [
    "import tensorflow as tf \n",
    "from tensorflow.keras.models import Sequential\n",
    "from tensorflow.keras.layers import Dense,Dropout\n",
    "from tensorflow.keras.activations import relu,sigmoid,tanh\n",
    "from tensorflow.keras.optimizers import RMSprop,Adam,SGD"
   ]
  },
  {
   "cell_type": "code",
   "execution_count": 8,
   "id": "8383168c",
   "metadata": {},
   "outputs": [],
   "source": [
    "from sklearn.datasets import load_breast_cancer\n",
    "from sklearn.model_selection import train_test_split\n"
   ]
  },
  {
   "cell_type": "code",
   "execution_count": 9,
   "id": "60fe54bd",
   "metadata": {},
   "outputs": [],
   "source": [
    "data = load_breast_cancer()\n",
    "X_train,X_test,y_train,y_test = train_test_split(data.data,data.target,test_size=0.2,random_state=64)"
   ]
  },
  {
   "cell_type": "code",
   "execution_count": 27,
   "id": "19d72757",
   "metadata": {},
   "outputs": [],
   "source": [
    "def create_model(activation_func,optimizer):\n",
    "    model=Sequential([\n",
    "        Dense(64,input_shape=(X_train.shape[1],),activation=activation_func),\n",
    "        Dropout(0.5),\n",
    "        Dense(32,activation=activation_func),\n",
    "        Dropout(0.5),\n",
    "        Dense(1,activation='sigmoid')\n",
    "    ])\n",
    "    model.compile(loss='binary_crossentropy',optimizer=optimizer,metrics=['accuracy'])\n",
    "    return model"
   ]
  },
  {
   "cell_type": "code",
   "execution_count": 28,
   "id": "cda5e9e5",
   "metadata": {},
   "outputs": [],
   "source": [
    "activation_funcs=['relu','sigmoid','tanh']\n",
    "optimizers_funcs=[RMSprop,SGD,Adam]"
   ]
  },
  {
   "cell_type": "code",
   "execution_count": 29,
   "id": "13d5553c",
   "metadata": {},
   "outputs": [
    {
     "name": "stdout",
     "output_type": "stream",
     "text": [
      "The activation function is relu and the optimizer is <keras.src.optimizers.rmsprop.RMSprop object at 0x0000023A6E531510>\n",
      "\u001b[1m4/4\u001b[0m \u001b[32m━━━━━━━━━━━━━━━━━━━━\u001b[0m\u001b[37m\u001b[0m \u001b[1m0s\u001b[0m 5ms/step - accuracy: 0.9239 - loss: 0.1895 \n",
      "The loss and accuracy are :  0.20708328485488892 0.9035087823867798\n",
      "The activation function is relu and the optimizer is <keras.src.optimizers.sgd.SGD object at 0x0000023A71B26790>\n",
      "\u001b[1m4/4\u001b[0m \u001b[32m━━━━━━━━━━━━━━━━━━━━\u001b[0m\u001b[37m\u001b[0m \u001b[1m0s\u001b[0m 3ms/step - accuracy: 0.6448 - loss: 0.6526 \n",
      "The loss and accuracy are :  0.6424309015274048 0.6666666865348816\n",
      "The activation function is relu and the optimizer is <keras.src.optimizers.adam.Adam object at 0x0000023A71E61990>\n",
      "\u001b[1m4/4\u001b[0m \u001b[32m━━━━━━━━━━━━━━━━━━━━\u001b[0m\u001b[37m\u001b[0m \u001b[1m0s\u001b[0m 0s/step - accuracy: 0.9239 - loss: 0.3268  \n",
      "The loss and accuracy are :  0.342602401971817 0.9035087823867798\n",
      "The activation function is sigmoid and the optimizer is <keras.src.optimizers.rmsprop.RMSprop object at 0x0000023A75FA7690>\n",
      "\u001b[1m4/4\u001b[0m \u001b[32m━━━━━━━━━━━━━━━━━━━━\u001b[0m\u001b[37m\u001b[0m \u001b[1m0s\u001b[0m 6ms/step - accuracy: 0.8975 - loss: 0.2000 \n",
      "The loss and accuracy are :  0.23861536383628845 0.8947368264198303\n",
      "The activation function is sigmoid and the optimizer is <keras.src.optimizers.sgd.SGD object at 0x0000023A76FFBA50>\n",
      "\u001b[1m4/4\u001b[0m \u001b[32m━━━━━━━━━━━━━━━━━━━━\u001b[0m\u001b[37m\u001b[0m \u001b[1m0s\u001b[0m 3ms/step - accuracy: 0.6448 - loss: 0.6523 \n",
      "The loss and accuracy are :  0.6418815851211548 0.6666666865348816\n",
      "The activation function is sigmoid and the optimizer is <keras.src.optimizers.adam.Adam object at 0x0000023A781D71D0>\n",
      "\u001b[1m4/4\u001b[0m \u001b[32m━━━━━━━━━━━━━━━━━━━━\u001b[0m\u001b[37m\u001b[0m \u001b[1m0s\u001b[0m 7ms/step - accuracy: 0.9239 - loss: 0.2268 \n",
      "The loss and accuracy are :  0.2535566985607147 0.9035087823867798\n",
      "The activation function is tanh and the optimizer is <keras.src.optimizers.rmsprop.RMSprop object at 0x0000023A705934D0>\n",
      "\u001b[1m4/4\u001b[0m \u001b[32m━━━━━━━━━━━━━━━━━━━━\u001b[0m\u001b[37m\u001b[0m \u001b[1m0s\u001b[0m 2ms/step - accuracy: 0.9152 - loss: 0.2418 \n",
      "The loss and accuracy are :  0.27456948161125183 0.8947368264198303\n",
      "The activation function is tanh and the optimizer is <keras.src.optimizers.sgd.SGD object at 0x0000023A76FC5410>\n",
      "\u001b[1m4/4\u001b[0m \u001b[32m━━━━━━━━━━━━━━━━━━━━\u001b[0m\u001b[37m\u001b[0m \u001b[1m0s\u001b[0m 4ms/step - accuracy: 0.6448 - loss: 0.6521 \n",
      "The loss and accuracy are :  0.6414987444877625 0.6666666865348816\n",
      "The activation function is tanh and the optimizer is <keras.src.optimizers.adam.Adam object at 0x0000023A7B763590>\n",
      "\u001b[1m4/4\u001b[0m \u001b[32m━━━━━━━━━━━━━━━━━━━━\u001b[0m\u001b[37m\u001b[0m \u001b[1m0s\u001b[0m 5ms/step - accuracy: 0.9054 - loss: 0.2735 \n",
      "The loss and accuracy are :  0.3180653750896454 0.8859649300575256\n"
     ]
    }
   ],
   "source": [
    "for activation in activation_funcs:\n",
    "    for optimizers in optimizers_funcs:\n",
    "        opt=optimizers(learning_rate=0.001 if optimizers!= SGD else 0.01)\n",
    "        model=create_model(activation,opt)\n",
    "        print(f\"The activation function is {activation} and the optimizer is {opt}\")\n",
    "        model.fit(X_train,y_train,epochs=50,batch_size=16,verbose=0)\n",
    "        loss,accuracy=model.evaluate(X_test,y_test)\n",
    "        print(\"The loss and accuracy are : \",loss,accuracy)"
   ]
  },
  {
   "cell_type": "code",
   "execution_count": null,
   "id": "f70e2dc3",
   "metadata": {},
   "outputs": [],
   "source": []
  }
 ],
 "metadata": {
  "kernelspec": {
   "display_name": "Python 3 (ipykernel)",
   "language": "python",
   "name": "python3"
  },
  "language_info": {
   "codemirror_mode": {
    "name": "ipython",
    "version": 3
   },
   "file_extension": ".py",
   "mimetype": "text/x-python",
   "name": "python",
   "nbconvert_exporter": "python",
   "pygments_lexer": "ipython3",
   "version": "3.11.5"
  }
 },
 "nbformat": 4,
 "nbformat_minor": 5
}
